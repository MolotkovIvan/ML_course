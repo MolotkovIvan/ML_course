{
 "cells": [
  {
   "cell_type": "code",
   "execution_count": 3,
   "metadata": {},
   "outputs": [],
   "source": [
    "import numpy as np, pandas\n",
    "from sklearn import tree"
   ]
  },
  {
   "cell_type": "code",
   "execution_count": 26,
   "metadata": {},
   "outputs": [],
   "source": [
    "data = pandas.read_csv(\"titanic.csv\", index_col = \"PassengerId\")\n",
    "new_frame = data[[\"Pclass\", \"Age\", \"Fare\", \"Sex\", \"Survived\"]].copy()\n",
    "X = []\n",
    "Y = []\n",
    "for row in new_frame.iterrows():\n",
    "    is_nan = False\n",
    "    for elem in row[1]:\n",
    "        if pandas.isna(elem):\n",
    "            is_nan = True\n",
    "    if is_nan:\n",
    "        continue\n",
    "    else:\n",
    "        Y.append(row[1][4])\n",
    "        if row[1][3] == \"male\":\n",
    "            X.append([row[1][0], row[1][1], row[1][2], 0])\n",
    "        else:\n",
    "            X.append([row[1][0], row[1][1], row[1][2], 1])"
   ]
  },
  {
   "cell_type": "code",
   "execution_count": 29,
   "metadata": {},
   "outputs": [
    {
     "data": {
      "text/plain": [
       "DecisionTreeClassifier(random_state=241)"
      ]
     },
     "execution_count": 29,
     "metadata": {},
     "output_type": "execute_result"
    }
   ],
   "source": [
    "clf = tree.DecisionTreeClassifier(random_state=241)\n",
    "clf.fit(X, Y)"
   ]
  },
  {
   "cell_type": "code",
   "execution_count": 30,
   "metadata": {},
   "outputs": [
    {
     "name": "stdout",
     "output_type": "stream",
     "text": [
      "[0.14751816 0.25124241 0.30072722 0.30051221]\n"
     ]
    }
   ],
   "source": [
    "print(clf.feature_importances_)"
   ]
  },
  {
   "cell_type": "code",
   "execution_count": null,
   "metadata": {},
   "outputs": [],
   "source": []
  }
 ],
 "metadata": {
  "kernelspec": {
   "display_name": "Python 3",
   "language": "python",
   "name": "python3"
  },
  "language_info": {
   "codemirror_mode": {
    "name": "ipython",
    "version": 3
   },
   "file_extension": ".py",
   "mimetype": "text/x-python",
   "name": "python",
   "nbconvert_exporter": "python",
   "pygments_lexer": "ipython3",
   "version": "3.8.5"
  }
 },
 "nbformat": 4,
 "nbformat_minor": 4
}
