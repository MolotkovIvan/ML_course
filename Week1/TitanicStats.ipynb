{
 "cells": [
  {
   "cell_type": "code",
   "execution_count": 87,
   "metadata": {},
   "outputs": [],
   "source": [
    "import pandas, numpy as np"
   ]
  },
  {
   "cell_type": "code",
   "execution_count": null,
   "metadata": {},
   "outputs": [],
   "source": [
    "data = pandas.read_csv(\"titanic.csv\", index_col = \"PassengerId\")"
   ]
  },
  {
   "cell_type": "code",
   "execution_count": 84,
   "metadata": {},
   "outputs": [
    {
     "name": "stdout",
     "output_type": "stream",
     "text": [
      "male      577\n",
      "female    314\n",
      "Name: Sex, dtype: int64\n"
     ]
    }
   ],
   "source": [
    "print(data[\"Sex\"].value_counts()) #GENDERS"
   ]
  },
  {
   "cell_type": "code",
   "execution_count": 25,
   "metadata": {},
   "outputs": [
    {
     "name": "stdout",
     "output_type": "stream",
     "text": [
      "38.38383838383838\n"
     ]
    }
   ],
   "source": [
    "print(data[\"Survived\"].value_counts()[1] / len(data[\"Survived\"]) * 100) #SUVIVORSHIP RATE"
   ]
  },
  {
   "cell_type": "code",
   "execution_count": 81,
   "metadata": {},
   "outputs": [
    {
     "name": "stdout",
     "output_type": "stream",
     "text": [
      "24.242424242424242\n"
     ]
    }
   ],
   "source": [
    "print(data[\"Pclass\"].value_counts()[1] / len(data[\"Pclass\"]) * 100) #PERCENTAGE OF FIRST CLASS"
   ]
  },
  {
   "cell_type": "code",
   "execution_count": 146,
   "metadata": {},
   "outputs": [
    {
     "name": "stdout",
     "output_type": "stream",
     "text": [
      "24.0\n",
      "29.69911764705882\n",
      "28.0\n"
     ]
    }
   ],
   "source": [
    "print(data[\"Age\"].dropna().value_counts().keys()[0]) #MODE\n",
    "print(np.mean(data[\"Age\"].dropna().to_numpy())) #MEAN\n",
    "print(np.median(data[\"Age\"].dropna().to_numpy())) #MEDIAN"
   ]
  },
  {
   "cell_type": "code",
   "execution_count": 92,
   "metadata": {},
   "outputs": [
    {
     "name": "stdout",
     "output_type": "stream",
     "text": [
      "(0.41483769862015646, 2.2418236681382365e-38)\n"
     ]
    }
   ],
   "source": [
    "import scipy as sp\n",
    "print(sp.stats.pearsonr(data[\"SibSp\"], data[\"Parch\"])) #PEARSON CORRELATION"
   ]
  },
  {
   "cell_type": "code",
   "execution_count": 155,
   "metadata": {},
   "outputs": [
    {
     "name": "stdout",
     "output_type": "stream",
     "text": [
      "[('Laina', 1), ('Marguerite', 1), ('Hulda', 1), ('Emelia', 1), ('Fatima', 1), ('Torborg', 1), ('Selma', 1), ('Jamila', 1), ('Simonne', 1), ('Josefine', 1), ('Myna', 1), ('Amelie', 1), ('Erna', 1), ('Brigdet', 1), ('Matilda', 1), ('Hileni', 1), ('Katriina', 1), ('Malake', 1), ('Ellis', 1), ('Grace', 1), ('Sultana', 1), ('Elin', 1), ('Robina', 1), ('Eleanor', 1), ('Ann', 1), ('Luise', 1), ('Carla', 1), ('Elise', 1), ('Telma', 1), ('Clear', 1), ('Eliina', 1), ('Albina', 1), ('Irene', 1), ('Thamine', 1), ('Agda', 1), ('Elna', 1), ('Helena', 1), ('Hanne', 1), ('Gertrude', 1), ('Gladys', 1), ('Lutie', 1), ('Delia', 1), ('Kornelia', 1), ('Aloisia', 1), ('Nora', 1), ('Laura', 1), ('Helmina', 1), ('Miriam', 1), ('Margaretta', 1), ('Hilda', 1), ('Sylvia', 1), ('Jean', 1), ('Mantoura', 1), ('Leontine', 1), ('Stina', 1), ('Leila', 1), ('Aurora', 1), ('\"Mary\"', 1), ('Elina', 1), ('Mari', 1), ('Daisy', 1), ('Lulu', 1), ('Lyyli', 1), ('Catharina', 1), ('Doolina', 1), ('Esther', 1), ('Encarnacion', 1), ('Hildur', 1), ('Jeannie', 1), ('Bessie', 1), ('Kristina', 1), ('Roberta', 1), ('Anne', 1), ('Phyllis', 1), ('Eva', 1), ('Harriet', 1), ('Ingeborg', 1), ('Sigrid', 1), ('Velin', 1), ('Lucille', 1), ('Tillie', 1), ('Alma', 1), ('Julie', 1), ('Marian', 1), ('Ruth', 1), ('Juliette', 1), ('Alfrida', 1), ('Cordelia', 1), ('Gretchen', 1), ('Margit', 1), ('Eugenie', 1), ('Juliet', 1), ('Katie', 1), ('Georgette', 1), ('Manca', 1), ('Saiide', 1), ('Caroline', 1), ('Edwina', 1), ('Margareth', 1), ('Pieta', 1), ('Joan', 1), ('Eliza', 1), ('Virginia', 1), ('Banoura', 1), ('Vera', 1), ('Stella', 1), ('Farnham', 1), ('Mara', 1), ('Ebba', 1), ('Wendla', 1), ('Beila', 1), ('Selini', 1), ('Sara', 1), ('Edwiga', 1), ('Nourelain', 1), ('Lilian', 1), ('Leah', 1), ('Latifa', 1), ('Karolina', 1), ('Asuncion', 1), ('Sallie', 1), ('Hannah', 1), ('Imanita', 1), ('Gerda', 1), ('Lily', 2), ('Adele', 2), ('Johanna', 2), ('Dorothy', 2), ('Bridget', 2), ('Constance', 2), ('Mabel', 2), ('Susan', 2), ('Mathilde', 2), ('Rosa', 2), ('Marjorie', 2), ('Kate', 2), ('Helene', 2), ('Agnes', 2), ('Clara', 2), ('Elsie', 2), ('Rosalie', 2), ('Jessie', 2), ('Marija', 2), ('Lucile', 2), ('Hedwig', 2), ('Lucy', 2), ('Ethel', 2), ('Emma', 2), ('Charlotte', 2), ('Martha', 2), ('Amy', 2), ('Elisabeth', 3), ('Lillian', 3), ('Edith', 3), ('Katherine', 3), ('\"Mrs', 3), ('Madeleine', 3), ('Amelia', 3), ('Hanora', 3), ('Ida', 3), ('Jane', 3), ('Florence', 4), ('Ellen', 4), ('Marie', 4), ('Augusta', 4), ('Emily', 4), ('Maria', 4), ('Ada', 4), ('Marion', 4), ('Annie', 4), ('Catherine', 4), ('Bertha', 5), ('Helen', 5), ('Alice', 6), ('Margaret', 10), ('Elizabeth', 11), ('Mary', 14), ('Anna', 15)]\n"
     ]
    }
   ],
   "source": [
    "def parse_name(name):\n",
    "    name = name.split(',')[1]\n",
    "    words = name.split()\n",
    "    if name.find('(') == -1:\n",
    "        return words[1].strip('()')\n",
    "    else:\n",
    "        return name.split('(')[1].split()[0].strip('()')\n",
    "\n",
    "by_sex = data.groupby(\"Sex\")\n",
    "\n",
    "female_names = [] #GET FEMALE NAMES\n",
    "for sex, frame in by_sex:\n",
    "    if (sex == \"female\"):\n",
    "        female_names = list(map(parse_name, frame[\"Name\"].to_list()))\n",
    "\n",
    "l = {} #FIND THE MOST FREQUENT NAME\n",
    "for name in female_names:\n",
    "    l[name] = l.get(name, 0) + 1\n",
    "print(sorted(l.items(), key=lambda p:p[1]))"
   ]
  }
 ],
 "metadata": {
  "kernelspec": {
   "display_name": "Python 3",
   "language": "python",
   "name": "python3"
  },
  "language_info": {
   "codemirror_mode": {
    "name": "ipython",
    "version": 3
   },
   "file_extension": ".py",
   "mimetype": "text/x-python",
   "name": "python",
   "nbconvert_exporter": "python",
   "pygments_lexer": "ipython3",
   "version": "3.8.5"
  }
 },
 "nbformat": 4,
 "nbformat_minor": 4
}
