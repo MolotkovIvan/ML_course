{
 "cells": [
  {
   "cell_type": "code",
   "execution_count": 1,
   "metadata": {},
   "outputs": [],
   "source": [
    "import pandas\n",
    "import numpy as np\n",
    "from sklearn.decomposition import PCA"
   ]
  },
  {
   "cell_type": "code",
   "execution_count": 3,
   "metadata": {},
   "outputs": [
    {
     "data": {
      "text/plain": [
       "PCA(n_components=10)"
      ]
     },
     "execution_count": 3,
     "metadata": {},
     "output_type": "execute_result"
    }
   ],
   "source": [
    "data = pandas.read_csv('close_prices.csv')\n",
    "X = data.iloc[:, 1:]\n",
    "pca = PCA(n_components=10)\n",
    "pca.fit(X)"
   ]
  },
  {
   "cell_type": "code",
   "execution_count": 16,
   "metadata": {},
   "outputs": [
    {
     "name": "stdout",
     "output_type": "stream",
     "text": [
      "0.9277429537836402\n",
      "[0.73897118 0.11007169 0.04995088 0.0287492  0.02215448 0.01931577\n",
      " 0.00674853 0.00614091 0.00320594 0.00305611]\n"
     ]
    }
   ],
   "source": [
    "print(sum(pca.explained_variance_ratio_[:4])) # 4 for 90% variance\n",
    "print(pca.explained_variance_ratio_) "
   ]
  },
  {
   "cell_type": "code",
   "execution_count": 10,
   "metadata": {},
   "outputs": [
    {
     "name": "stdout",
     "output_type": "stream",
     "text": [
      "[ 1.61383840e-02  1.20644923e-01 -5.16612711e-02  5.04842369e-02\n",
      " -1.25859933e-01  1.14089567e-01  2.33906290e-01 -6.20513749e-03\n",
      "  2.51227032e-01  2.88996029e-01 -2.64998795e-01  9.31320168e-02\n",
      "  9.13948403e-02  4.69879340e-02  2.90549417e-02 -2.61068828e-02\n",
      "  3.29615584e-01  7.13897133e-02  7.62295699e-02  2.11888868e-01\n",
      "  2.30922941e-02  7.77316954e-02 -7.20594590e-03  1.89479745e-01\n",
      "  3.21564017e-01  5.36834873e-02  5.79683946e-01  1.09122230e-04\n",
      "  8.71614334e-02 -4.29421420e-02]\n"
     ]
    }
   ],
   "source": [
    "print(pca.components_[0]) #V has the biggest weight"
   ]
  },
  {
   "cell_type": "code",
   "execution_count": 22,
   "metadata": {},
   "outputs": [
    {
     "name": "stdout",
     "output_type": "stream",
     "text": [
      "[[1.         0.90965222]\n",
      " [0.90965222 1.        ]]\n"
     ]
    }
   ],
   "source": [
    "dji = pandas.read_csv('djia_index.csv')\n",
    "print(np.corrcoef(dji.iloc[:,1], pca.transform(X)[:, 0]))"
   ]
  },
  {
   "cell_type": "code",
   "execution_count": null,
   "metadata": {},
   "outputs": [],
   "source": []
  }
 ],
 "metadata": {
  "kernelspec": {
   "display_name": "Python 3",
   "language": "python",
   "name": "python3"
  },
  "language_info": {
   "codemirror_mode": {
    "name": "ipython",
    "version": 3
   },
   "file_extension": ".py",
   "mimetype": "text/x-python",
   "name": "python",
   "nbconvert_exporter": "python",
   "pygments_lexer": "ipython3",
   "version": "3.8.5"
  }
 },
 "nbformat": 4,
 "nbformat_minor": 4
}
