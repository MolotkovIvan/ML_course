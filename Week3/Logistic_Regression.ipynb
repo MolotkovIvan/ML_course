{
 "cells": [
  {
   "cell_type": "code",
   "execution_count": 10,
   "metadata": {},
   "outputs": [],
   "source": [
    "from math import exp\n",
    "import pandas\n",
    "import numpy as np\n",
    "from sklearn.metrics import roc_auc_score"
   ]
  },
  {
   "cell_type": "code",
   "execution_count": 59,
   "metadata": {},
   "outputs": [
    {
     "name": "stdout",
     "output_type": "stream",
     "text": [
      "21.30772984236\n",
      "[-1.24739492  0.74942464]\n"
     ]
    }
   ],
   "source": [
    "data = pandas.read_csv('data-logistic.csv', header=None)\n",
    "y = data.iloc[:, 0].to_numpy()\n",
    "X = data.iloc[:, 1:].to_numpy()\n",
    "print(np.dot(X[3,:], [1,10]))\n",
    "print(X[2])"
   ]
  },
  {
   "cell_type": "code",
   "execution_count": 90,
   "metadata": {},
   "outputs": [
    {
     "name": "stdout",
     "output_type": "stream",
     "text": [
      "[0.028561965517012657, 0.024783655436404747]\n"
     ]
    }
   ],
   "source": [
    "def gradient_logistic(w, k, C):\n",
    "    new_w = [0.0 for i in range(len(w))]\n",
    "    for i in range(len(w)):\n",
    "        new_w[i] = w[i] + k/len(y) * sum([y[j]*X[j,i]*(1 - 1.0/(1 + exp(-y[j] * np.dot(X[j, :], w)))) for j in range(len(y))]) - k * C * w[i]\n",
    "    return new_w.copy()\n",
    "\n",
    "def gradient_logistic_no_reg(w, k, C):\n",
    "    new_w = [0.0 for i in range(len(w))]\n",
    "    for i in range(len(w)):\n",
    "        new_w[i] = w[i] + k/len(y) * sum([y[j]*X[j,i]*(1 - 1.0/(1 + exp(-y[j] * np.dot(X[j, :], w)))) for j in range(len(y))])\n",
    "    return new_w.copy()\n",
    "\n",
    "\n",
    "def gradient_logistic1(w, k, C):\n",
    "    new_w = w.copy()\n",
    "    new_w[0] = w[0] + k * np.mean(y * X[:,0] * (1 - 1./(1+np.exp(-y * (w[0] * X[:,0] + w[1] * X[:,1]))))) - k * C * w[0]\n",
    "    new_w[1] = w[1] + k * np.mean(y * X[:,1] * (1 - 1./(1+np.exp(-y * (w[0] * X[:,0] + w[1] * X[:,1]))))) - k * C * w[1]\n",
    "    return new_w.copy()\n",
    "\n",
    "\n",
    "def GD(ini, e, k, C, maxiter):\n",
    "    w = ini\n",
    "    new_w = gradient_logistic(w,k,C)\n",
    "    iter = 1\n",
    "    while (np.linalg.norm(np.subtract(w, new_w)) > e and iter < maxiter):\n",
    "        w = new_w\n",
    "        new_w = gradient_logistic(w,k,C)\n",
    "        iter += 1\n",
    "    return w.copy()\n",
    "\n",
    "w = GD([.0,.0], 0.00001, 0.1, 10, 10000)\n",
    "print(w)"
   ]
  },
  {
   "cell_type": "code",
   "execution_count": 91,
   "metadata": {},
   "outputs": [
    {
     "name": "stdout",
     "output_type": "stream",
     "text": [
      "0.9362857142857142\n"
     ]
    }
   ],
   "source": [
    "def sigmoid(w, x):\n",
    "    return 1. / (1+np.exp(-np.dot(w,x)))\n",
    "\n",
    "def predict(w):\n",
    "    results = [sigmoid(w, X[i, :]) for i in range(len(X))]\n",
    "    return results\n",
    "    \n",
    "\n",
    "predictions = predict(w)\n",
    "print(roc_auc_score(y, predictions))\n",
    "#print(abs(sum([y[i] - (round(predictions[i])*2-1) for i in range(len(y))])/2)/len(y))\n",
    "#for i in range(len(y)):\n",
    "#    print(y[i], round(predictions[i])*2-1)"
   ]
  },
  {
   "cell_type": "code",
   "execution_count": null,
   "metadata": {},
   "outputs": [],
   "source": []
  }
 ],
 "metadata": {
  "kernelspec": {
   "display_name": "Python 3",
   "language": "python",
   "name": "python3"
  },
  "language_info": {
   "codemirror_mode": {
    "name": "ipython",
    "version": 3
   },
   "file_extension": ".py",
   "mimetype": "text/x-python",
   "name": "python",
   "nbconvert_exporter": "python",
   "pygments_lexer": "ipython3",
   "version": "3.8.5"
  }
 },
 "nbformat": 4,
 "nbformat_minor": 4
}
