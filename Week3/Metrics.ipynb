{
 "cells": [
  {
   "cell_type": "code",
   "execution_count": 27,
   "metadata": {},
   "outputs": [],
   "source": [
    "import pandas\n",
    "import numpy as np\n",
    "from sklearn import metrics"
   ]
  },
  {
   "cell_type": "code",
   "execution_count": 7,
   "metadata": {},
   "outputs": [
    {
     "name": "stdout",
     "output_type": "stream",
     "text": [
      "[0 1 1 0 1 1 1 1 0 1 0 1 1 1 0 1 1 1 0 0 1 1 1 0 0 0 1 1 0 0 0 1 0 0 1 1 0\n",
      " 1 0 0 1 1 1 1 0 0 0 0 0 1 0 0 0 0 0 0 0 0 0 0 1 0 1 1 0 0 0 1 0 1 0 0 1 1\n",
      " 1 0 1 0 0 0 0 1 1 1 1 1 0 1 0 0 0 0 0 0 1 0 0 1 0 0 0 0 1 0 0 1 1 0 1 0 1\n",
      " 0 0 0 1 0 1 0 0 1 0 1 1 0 0 1 0 0 0 1 0 0 1 1 0 1 0 0 1 0 1 0 0 1 0 0 1 1\n",
      " 0 0 0 0 0 1 1 1 0 0 0 0 0 1 1 0 0 0 0 1 1 0 1 0 0 0 0 0 0 1 0 0 1 0 0 0 1\n",
      " 0 0 0 0 0 0 0 0 1 0 0 0 0 1 0]\n"
     ]
    }
   ],
   "source": [
    "classification = pandas.read_csv(\"classification.csv\").to_numpy()\n",
    "y_class = classification[:, 0]\n",
    "pred_class = classification[:, 1]\n",
    "\n",
    "score = pandas.read_csv(\"scores.csv\").to_numpy()\n",
    "y_score = score[:, 0]\n",
    "pred_score = score[:, 1:]\n",
    "\n",
    "print(pred_class)"
   ]
  },
  {
   "cell_type": "code",
   "execution_count": 17,
   "metadata": {},
   "outputs": [
    {
     "name": "stdout",
     "output_type": "stream",
     "text": [
      "TP:  43\n",
      "FP:  34\n",
      "TN:  64\n",
      "FN:  59\n",
      "accuracy:  0.535 0.535\n",
      "precision:  0.5584415584415584 0.5584415584415584\n",
      "recall:  0.4215686274509804 0.4215686274509804\n",
      "F-score:  0.48044692737430167\n"
     ]
    }
   ],
   "source": [
    "TP = 0\n",
    "FP = 0\n",
    "TN = 0\n",
    "FN = 0\n",
    "for i in range(len(y_class)):\n",
    "    if y_class[i] == 0 and pred_class[i] == 0:\n",
    "        TN += 1\n",
    "    elif y_class[i] == 1 and pred_class[i] == 0:\n",
    "        FN += 1\n",
    "    elif y_class[i] == 0 and pred_class[i] == 1:\n",
    "        FP += 1\n",
    "    elif y_class[i] == 1 and pred_class[i] == 1:\n",
    "        TP += 1\n",
    "print(\"TP: \", TP)\n",
    "print(\"FP: \", FP)\n",
    "print(\"TN: \", TN)\n",
    "print(\"FN: \", FN)\n",
    "print(\"accuracy: \", metrics.accuracy_score(y_class, pred_class), 1.*(TP + TN)/(TP+FP+TN+FN))\n",
    "print(\"precision: \", metrics.precision_score(y_class, pred_class), 1.*(TP)/(TP+FP))\n",
    "print(\"recall: \", metrics.recall_score(y_class, pred_class), 1.*(TP)/(TP + FN))\n",
    "print(\"F-score: \", metrics.f1_score(y_class, pred_class))"
   ]
  },
  {
   "cell_type": "code",
   "execution_count": 18,
   "metadata": {},
   "outputs": [
    {
     "name": "stdout",
     "output_type": "stream",
     "text": [
      "AUC_ROC:\n",
      "logreg:  0.719187675070028\n",
      "SVM:  0.7086834733893557\n",
      "KNN:  0.6351540616246498\n",
      "Tree:  0.6919267707082833\n"
     ]
    }
   ],
   "source": [
    "print(\"AUC_ROC:\")\n",
    "print(\"logreg: \", metrics.roc_auc_score(y_score, pred_score[:,0]))\n",
    "print(\"SVM: \", metrics.roc_auc_score(y_score, pred_score[:,1]))\n",
    "print(\"KNN: \", metrics.roc_auc_score(y_score, pred_score[:,2]))\n",
    "print(\"Tree: \", metrics.roc_auc_score(y_score, pred_score[:,3]))"
   ]
  },
  {
   "cell_type": "code",
   "execution_count": 34,
   "metadata": {},
   "outputs": [
    {
     "name": "stdout",
     "output_type": "stream",
     "text": [
      "0 :  (0.6160714285714286, 0.7040816326530612)\n",
      "1 :  (0.6216216216216216, 0.7040816326530612)\n",
      "2 :  (0.5948275862068966, 0.7040816326530612)\n",
      "3 :  (0.6517857142857143, 0.7448979591836735)\n"
     ]
    }
   ],
   "source": [
    "for i in range(4):\n",
    "    precision, recall, threshold = metrics.precision_recall_curve(y_score, pred_score[:, i])\n",
    "    precision_recall = [(precision[i], recall[i]) for i in range(len(precision))]\n",
    "    res = 0\n",
    "    for j in range(len(precision_recall)):\n",
    "        if precision_recall[j][1] > 0.7:\n",
    "            res = j\n",
    "    print(i, \": \", precision_recall[res])\n",
    "#    print(precision_recall)"
   ]
  },
  {
   "cell_type": "code",
   "execution_count": null,
   "metadata": {},
   "outputs": [],
   "source": []
  }
 ],
 "metadata": {
  "kernelspec": {
   "display_name": "Python 3",
   "language": "python",
   "name": "python3"
  },
  "language_info": {
   "codemirror_mode": {
    "name": "ipython",
    "version": 3
   },
   "file_extension": ".py",
   "mimetype": "text/x-python",
   "name": "python",
   "nbconvert_exporter": "python",
   "pygments_lexer": "ipython3",
   "version": "3.8.5"
  }
 },
 "nbformat": 4,
 "nbformat_minor": 4
}
