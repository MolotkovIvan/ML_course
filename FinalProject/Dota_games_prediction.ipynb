{
 "cells": [
  {
   "cell_type": "markdown",
   "metadata": {},
   "source": [
    "# Предсказание результатов матчей в Dota 2"
   ]
  },
  {
   "cell_type": "markdown",
   "metadata": {},
   "source": [
    "Импортируем полезные библиотеки"
   ]
  },
  {
   "cell_type": "code",
   "execution_count": 156,
   "metadata": {},
   "outputs": [],
   "source": [
    "import time\n",
    "import datetime\n",
    "import pandas\n",
    "import numpy as np\n",
    "from sklearn.linear_model import LogisticRegression\n",
    "from sklearn.ensemble import GradientBoostingClassifier\n",
    "from sklearn.model_selection import KFold\n",
    "from sklearn.model_selection import cross_val_score"
   ]
  },
  {
   "cell_type": "markdown",
   "metadata": {},
   "source": [
    "Достаем данные, разбиваем их на данные про первые 5 минут и на данные про конец игры. Пятый с конца столбец - целевая переменная."
   ]
  },
  {
   "cell_type": "code",
   "execution_count": 157,
   "metadata": {},
   "outputs": [
    {
     "name": "stdout",
     "output_type": "stream",
     "text": [
      "first_blood_time               77677\n",
      "first_blood_team               77677\n",
      "first_blood_player1            77677\n",
      "first_blood_player2            53243\n",
      "radiant_bottle_time            81539\n",
      "radiant_courier_time           96538\n",
      "radiant_flying_courier_time    69751\n",
      "radiant_first_ward_time        95394\n",
      "dire_bottle_time               81087\n",
      "dire_courier_time              96554\n",
      "dire_flying_courier_time       71132\n",
      "dire_first_ward_time           95404\n",
      "dtype: int64\n"
     ]
    }
   ],
   "source": [
    "raw_data_train = pandas.read_csv(\"features.csv\")\n",
    "X_train = raw_data_train.iloc[:, :-6] #early game features\n",
    "y_train = raw_data_train[\"radiant_win\"] #endgame features\n",
    "\n",
    "raw_data_test = pandas.read_csv('features_test.csv')\n",
    "X_test = raw_data_test\n",
    "print(X_train[X_train.columns[X_train.isna().any()].tolist()].count())"
   ]
  },
  {
   "cell_type": "markdown",
   "metadata": {},
   "source": [
    "Видно, что 12 признаков для некоторых матчей могут не иметь значений. К примеру, признаки, относящиеся к времени покупки предметов (bottle_time, courier_time), могут отсутсвовать, потому что покупки не произошли в первые 5 минут. То же самое с данными о first_blood - в первые 5 минут не было first_blood, нет и данных по нему. "
   ]
  },
  {
   "cell_type": "markdown",
   "metadata": {},
   "source": [
    "У всех признаков, отвечающих за время того или иного события, пустые значения лучше заполнить большим числом. Все, что нам известно про события с отсутствующим временем - это то, что они произошли после первых 5 минут, то есть позже, чем в матчах с известными временами. Тогда эти значения должны быть больше. В случае с decision trees не так важно, насколько больше.\n",
    "\n",
    "Есть идея в first_blood_team поменять значения с 0,1 (для первой и второй команды) на -1 и 1, а неизвестные заполнить нулями. С first_blood_player сложнее. Во-первых, это категориальный признак. Можно для него сделать one-hot encoding - но тогда будет много новых признаков, которые не очень нужны - важен не игрок, который совершил убийство, а команда. Поэтому я уберу эти признаки."
   ]
  },
  {
   "cell_type": "code",
   "execution_count": 158,
   "metadata": {},
   "outputs": [
    {
     "data": {
      "text/html": [
       "<div>\n",
       "<style scoped>\n",
       "    .dataframe tbody tr th:only-of-type {\n",
       "        vertical-align: middle;\n",
       "    }\n",
       "\n",
       "    .dataframe tbody tr th {\n",
       "        vertical-align: top;\n",
       "    }\n",
       "\n",
       "    .dataframe thead th {\n",
       "        text-align: right;\n",
       "    }\n",
       "</style>\n",
       "<table border=\"1\" class=\"dataframe\">\n",
       "  <thead>\n",
       "    <tr style=\"text-align: right;\">\n",
       "      <th></th>\n",
       "      <th>d5_xp</th>\n",
       "      <th>d5_gold</th>\n",
       "      <th>d5_lh</th>\n",
       "      <th>d5_kills</th>\n",
       "      <th>d5_deaths</th>\n",
       "      <th>d5_items</th>\n",
       "      <th>first_blood_time</th>\n",
       "      <th>first_blood_team</th>\n",
       "      <th>radiant_bottle_time</th>\n",
       "      <th>radiant_courier_time</th>\n",
       "      <th>radiant_flying_courier_time</th>\n",
       "      <th>radiant_tpscroll_count</th>\n",
       "    </tr>\n",
       "  </thead>\n",
       "  <tbody>\n",
       "    <tr>\n",
       "      <th>0</th>\n",
       "      <td>958</td>\n",
       "      <td>1003</td>\n",
       "      <td>3</td>\n",
       "      <td>1</td>\n",
       "      <td>0</td>\n",
       "      <td>9</td>\n",
       "      <td>7.0</td>\n",
       "      <td>1.0</td>\n",
       "      <td>134.0</td>\n",
       "      <td>-80.0</td>\n",
       "      <td>244.0</td>\n",
       "      <td>2</td>\n",
       "    </tr>\n",
       "    <tr>\n",
       "      <th>1</th>\n",
       "      <td>1470</td>\n",
       "      <td>1622</td>\n",
       "      <td>24</td>\n",
       "      <td>0</td>\n",
       "      <td>0</td>\n",
       "      <td>9</td>\n",
       "      <td>54.0</td>\n",
       "      <td>1.0</td>\n",
       "      <td>173.0</td>\n",
       "      <td>-80.0</td>\n",
       "      <td>500.0</td>\n",
       "      <td>2</td>\n",
       "    </tr>\n",
       "    <tr>\n",
       "      <th>2</th>\n",
       "      <td>1350</td>\n",
       "      <td>1512</td>\n",
       "      <td>25</td>\n",
       "      <td>0</td>\n",
       "      <td>0</td>\n",
       "      <td>7</td>\n",
       "      <td>224.0</td>\n",
       "      <td>-1.0</td>\n",
       "      <td>63.0</td>\n",
       "      <td>-82.0</td>\n",
       "      <td>500.0</td>\n",
       "      <td>2</td>\n",
       "    </tr>\n",
       "    <tr>\n",
       "      <th>3</th>\n",
       "      <td>510</td>\n",
       "      <td>499</td>\n",
       "      <td>0</td>\n",
       "      <td>0</td>\n",
       "      <td>0</td>\n",
       "      <td>7</td>\n",
       "      <td>500.0</td>\n",
       "      <td>0.0</td>\n",
       "      <td>208.0</td>\n",
       "      <td>-75.0</td>\n",
       "      <td>500.0</td>\n",
       "      <td>0</td>\n",
       "    </tr>\n",
       "    <tr>\n",
       "      <th>4</th>\n",
       "      <td>1119</td>\n",
       "      <td>904</td>\n",
       "      <td>6</td>\n",
       "      <td>0</td>\n",
       "      <td>1</td>\n",
       "      <td>7</td>\n",
       "      <td>-21.0</td>\n",
       "      <td>1.0</td>\n",
       "      <td>166.0</td>\n",
       "      <td>-81.0</td>\n",
       "      <td>181.0</td>\n",
       "      <td>1</td>\n",
       "    </tr>\n",
       "    <tr>\n",
       "      <th>...</th>\n",
       "      <td>...</td>\n",
       "      <td>...</td>\n",
       "      <td>...</td>\n",
       "      <td>...</td>\n",
       "      <td>...</td>\n",
       "      <td>...</td>\n",
       "      <td>...</td>\n",
       "      <td>...</td>\n",
       "      <td>...</td>\n",
       "      <td>...</td>\n",
       "      <td>...</td>\n",
       "      <td>...</td>\n",
       "    </tr>\n",
       "    <tr>\n",
       "      <th>97225</th>\n",
       "      <td>1583</td>\n",
       "      <td>1634</td>\n",
       "      <td>10</td>\n",
       "      <td>2</td>\n",
       "      <td>0</td>\n",
       "      <td>6</td>\n",
       "      <td>114.0</td>\n",
       "      <td>-1.0</td>\n",
       "      <td>245.0</td>\n",
       "      <td>-86.0</td>\n",
       "      <td>211.0</td>\n",
       "      <td>5</td>\n",
       "    </tr>\n",
       "    <tr>\n",
       "      <th>97226</th>\n",
       "      <td>1791</td>\n",
       "      <td>1186</td>\n",
       "      <td>3</td>\n",
       "      <td>1</td>\n",
       "      <td>0</td>\n",
       "      <td>8</td>\n",
       "      <td>174.0</td>\n",
       "      <td>1.0</td>\n",
       "      <td>139.0</td>\n",
       "      <td>-85.0</td>\n",
       "      <td>202.0</td>\n",
       "      <td>5</td>\n",
       "    </tr>\n",
       "    <tr>\n",
       "      <th>97227</th>\n",
       "      <td>841</td>\n",
       "      <td>499</td>\n",
       "      <td>1</td>\n",
       "      <td>0</td>\n",
       "      <td>0</td>\n",
       "      <td>10</td>\n",
       "      <td>108.0</td>\n",
       "      <td>-1.0</td>\n",
       "      <td>43.0</td>\n",
       "      <td>-83.0</td>\n",
       "      <td>181.0</td>\n",
       "      <td>2</td>\n",
       "    </tr>\n",
       "    <tr>\n",
       "      <th>97228</th>\n",
       "      <td>1264</td>\n",
       "      <td>803</td>\n",
       "      <td>5</td>\n",
       "      <td>0</td>\n",
       "      <td>0</td>\n",
       "      <td>8</td>\n",
       "      <td>28.0</td>\n",
       "      <td>-1.0</td>\n",
       "      <td>96.0</td>\n",
       "      <td>-78.0</td>\n",
       "      <td>205.0</td>\n",
       "      <td>6</td>\n",
       "    </tr>\n",
       "    <tr>\n",
       "      <th>97229</th>\n",
       "      <td>1873</td>\n",
       "      <td>1248</td>\n",
       "      <td>7</td>\n",
       "      <td>1</td>\n",
       "      <td>1</td>\n",
       "      <td>6</td>\n",
       "      <td>14.0</td>\n",
       "      <td>1.0</td>\n",
       "      <td>118.0</td>\n",
       "      <td>-83.0</td>\n",
       "      <td>250.0</td>\n",
       "      <td>2</td>\n",
       "    </tr>\n",
       "  </tbody>\n",
       "</table>\n",
       "<p>97230 rows × 12 columns</p>\n",
       "</div>"
      ],
      "text/plain": [
       "       d5_xp  d5_gold  d5_lh  d5_kills  d5_deaths  d5_items  first_blood_time  \\\n",
       "0        958     1003      3         1          0         9               7.0   \n",
       "1       1470     1622     24         0          0         9              54.0   \n",
       "2       1350     1512     25         0          0         7             224.0   \n",
       "3        510      499      0         0          0         7             500.0   \n",
       "4       1119      904      6         0          1         7             -21.0   \n",
       "...      ...      ...    ...       ...        ...       ...               ...   \n",
       "97225   1583     1634     10         2          0         6             114.0   \n",
       "97226   1791     1186      3         1          0         8             174.0   \n",
       "97227    841      499      1         0          0        10             108.0   \n",
       "97228   1264      803      5         0          0         8              28.0   \n",
       "97229   1873     1248      7         1          1         6              14.0   \n",
       "\n",
       "       first_blood_team  radiant_bottle_time  radiant_courier_time  \\\n",
       "0                   1.0                134.0                 -80.0   \n",
       "1                   1.0                173.0                 -80.0   \n",
       "2                  -1.0                 63.0                 -82.0   \n",
       "3                   0.0                208.0                 -75.0   \n",
       "4                   1.0                166.0                 -81.0   \n",
       "...                 ...                  ...                   ...   \n",
       "97225              -1.0                245.0                 -86.0   \n",
       "97226               1.0                139.0                 -85.0   \n",
       "97227              -1.0                 43.0                 -83.0   \n",
       "97228              -1.0                 96.0                 -78.0   \n",
       "97229               1.0                118.0                 -83.0   \n",
       "\n",
       "       radiant_flying_courier_time  radiant_tpscroll_count  \n",
       "0                            244.0                       2  \n",
       "1                            500.0                       2  \n",
       "2                            500.0                       2  \n",
       "3                            500.0                       0  \n",
       "4                            181.0                       1  \n",
       "...                            ...                     ...  \n",
       "97225                        211.0                       5  \n",
       "97226                        202.0                       5  \n",
       "97227                        181.0                       2  \n",
       "97228                        205.0                       6  \n",
       "97229                        250.0                       2  \n",
       "\n",
       "[97230 rows x 12 columns]"
      ]
     },
     "execution_count": 158,
     "metadata": {},
     "output_type": "execute_result"
    }
   ],
   "source": [
    "X_train = X_train.drop(columns=['first_blood_player1', 'first_blood_player2'])\n",
    "X_train['first_blood_team'] = X_train['first_blood_team'].map(lambda x: 0 if pandas.isna(x) else x*2-1)\n",
    "X_train = X_train.fillna(500)\n",
    "\n",
    "X_test = X_test.drop(columns=['first_blood_player1', 'first_blood_player2'])\n",
    "X_test['first_blood_team'] = X_test['first_blood_team'].map(lambda x: 0 if pandas.isna(x) else x*2-1)\n",
    "X_test = X_test.fillna(500)\n",
    "\n",
    "\n",
    "X_train.iloc[:, -24:-12]"
   ]
  },
  {
   "cell_type": "markdown",
   "metadata": {},
   "source": [
    "Теперь можно обучать классификаторы."
   ]
  },
  {
   "cell_type": "markdown",
   "metadata": {},
   "source": [
    "# Gradient Boosting approach"
   ]
  },
  {
   "cell_type": "code",
   "execution_count": 87,
   "metadata": {},
   "outputs": [
    {
     "name": "stdout",
     "output_type": "stream",
     "text": [
      "Time elapsed: 0:10:37.590439\n"
     ]
    }
   ],
   "source": [
    "start_time = datetime.datetime.now()\n",
    "\n",
    "random_state = 241\n",
    "cv = KFold(n_splits=5, shuffle=True, random_state=random_state)\n",
    "results = []\n",
    "for n_estimators in [10,20,30]:    \n",
    "    clf = GradientBoostingClassifier(n_estimators=n_estimators, random_state=random_state)\n",
    "    results.append((np.mean(cross_val_score(clf, X_train, y_train, scoring='roc_auc')), n_estimators))\n",
    "    \n",
    "print('Time elapsed:', datetime.datetime.now() - start_time)\n"
   ]
  },
  {
   "cell_type": "code",
   "execution_count": 88,
   "metadata": {},
   "outputs": [
    {
     "data": {
      "text/plain": [
       "[(0.6261886521297532, 10), (0.643284173352827, 20), (0.6507787698254051, 30)]"
      ]
     },
     "execution_count": 88,
     "metadata": {},
     "output_type": "execute_result"
    }
   ],
   "source": [
    "results"
   ]
  },
  {
   "cell_type": "markdown",
   "metadata": {},
   "source": [
    "Выше - полученная точность при n_estimators=10, 20, 30.\n",
    "\n",
    "Скорее всего, при увеличении n_estimators точность бы продолжала увеличиваться. Экспериментировать сложно, потому что даже на 30 обучается модель достаточно долго."
   ]
  },
  {
   "cell_type": "markdown",
   "metadata": {},
   "source": [
    "# Logistic regression approach"
   ]
  },
  {
   "cell_type": "markdown",
   "metadata": {},
   "source": [
    "Сначала попробуем логистическую регресси на данных, не обрабатывая их перед этим (кроме заполнения пустых полей)"
   ]
  },
  {
   "cell_type": "code",
   "execution_count": 159,
   "metadata": {},
   "outputs": [],
   "source": [
    "cv = KFold(n_splits=5, shuffle=True, random_state=random_state)\n",
    "results = []\n",
    "for C in [0.01, 0.1, 1, 10, 100]:    \n",
    "    clf = LogisticRegression(C=C, random_state=random_state)\n",
    "    results.append((np.mean(cross_val_score(clf, X_train, y_train, scoring='roc_auc')), C))\n"
   ]
  },
  {
   "cell_type": "code",
   "execution_count": 160,
   "metadata": {},
   "outputs": [
    {
     "data": {
      "text/plain": [
       "[(0.5650577070629076, 0.01),\n",
       " (0.5650577070629076, 0.1),\n",
       " (0.5650577070629076, 1),\n",
       " (0.5650577070629076, 10),\n",
       " (0.5650577070629076, 100)]"
      ]
     },
     "execution_count": 160,
     "metadata": {},
     "output_type": "execute_result"
    }
   ],
   "source": [
    "results"
   ]
  },
  {
   "cell_type": "markdown",
   "metadata": {},
   "source": [
    "Результат не очень хороший. Что не удивительно.\n",
    "\n",
    "Теперь удалим категориальные признаки, а так же отмасштабируем оставшиеся признаки."
   ]
  },
  {
   "cell_type": "code",
   "execution_count": 161,
   "metadata": {},
   "outputs": [],
   "source": [
    "from sklearn.preprocessing import StandardScaler\n",
    "\n",
    "X_train_1 = X_train.drop(columns=['lobby_type', 'r1_hero', 'r2_hero', 'r3_hero', 'r4_hero', 'r5_hero', \\\n",
    "                               'd1_hero', 'd2_hero', 'd3_hero', 'd4_hero', 'd5_hero'])\n",
    "scaler = StandardScaler()\n",
    "scaler.fit(X_train_1)\n",
    "X_train_1 = scaler.transform(X_train_1)"
   ]
  },
  {
   "cell_type": "code",
   "execution_count": 162,
   "metadata": {},
   "outputs": [],
   "source": [
    "cv = KFold(n_splits=5, shuffle=True, random_state=random_state)\n",
    "results = []\n",
    "for C in [0.01, 0.1, 1, 10, 100]:    \n",
    "    clf = LogisticRegression(C=C, random_state=random_state)\n",
    "    results.append((np.mean(cross_val_score(clf, X_train_1, y_train, scoring='roc_auc')), C))"
   ]
  },
  {
   "cell_type": "code",
   "execution_count": 163,
   "metadata": {},
   "outputs": [
    {
     "data": {
      "text/plain": [
       "[(0.7155935582881133, 0.01),\n",
       " (0.7156001928723871, 0.1),\n",
       " (0.715599680143528, 1),\n",
       " (0.7155997945358925, 10),\n",
       " (0.7155997902978918, 100)]"
      ]
     },
     "execution_count": 163,
     "metadata": {},
     "output_type": "execute_result"
    }
   ],
   "source": [
    "results"
   ]
  },
  {
   "cell_type": "markdown",
   "metadata": {},
   "source": [
    "Результат заметно лучше.\n",
    "\n",
    "Однако категориальные признаки, который мы удалили, очень важны. Разные герои в игре имеют разный процент побед - с какими-то выигрывать проще, с какими-то сложнее. Мы вернем признаки, отвечающие за выбор героев командами. Теперь если команда Radiant выбрала i-го героя, то i-е значение будет равно 1, если его выбрала команда Dire - значение будет равно -1."
   ]
  },
  {
   "cell_type": "code",
   "execution_count": 164,
   "metadata": {},
   "outputs": [
    {
     "name": "stdout",
     "output_type": "stream",
     "text": [
      "maximal value for hero is 112\n"
     ]
    }
   ],
   "source": [
    "heroes = X_train[['r1_hero', 'r2_hero', 'r3_hero', 'r4_hero', 'r5_hero', \\\n",
    "                  'd1_hero', 'd2_hero', 'd3_hero', 'd4_hero', 'd5_hero']].values\n",
    "\n",
    "print('maximal value for hero is', np.max(heroes))\n",
    "\n",
    "N_heroes = np.max(heroes)\n",
    "X_pick = np.zeros((heroes.shape[0], N_heroes))\n",
    "for n, row in enumerate(heroes):\n",
    "    for i in range(0, 5):\n",
    "        X_pick[n, row[i]-1] = 1\n",
    "    for i in range(5,10):\n",
    "        X_pick[n, row[i]-1] = -1\n",
    "\n",
    "X_train_2 = X_train.drop(columns=['lobby_type', 'r1_hero', 'r2_hero', 'r3_hero', 'r4_hero', 'r5_hero', \\\n",
    "                               'd1_hero', 'd2_hero', 'd3_hero', 'd4_hero', 'd5_hero'])\n",
    "X_train_2 = np.hstack((X_train_2, X_pick))\n",
    "scaler = StandardScaler()\n",
    "scaler.fit(X_train_2)\n",
    "X_train_2 = scaler.transform(X_train_2)"
   ]
  },
  {
   "cell_type": "code",
   "execution_count": 165,
   "metadata": {},
   "outputs": [],
   "source": [
    "cv = KFold(n_splits=5, shuffle=True, random_state=random_state)\n",
    "results = []\n",
    "for C in [0.01, 0.1, 1, 10, 100]:    \n",
    "    clf = LogisticRegression(C=C, random_state=random_state)\n",
    "    results.append((np.mean(cross_val_score(clf, X_train_2, y_train, scoring='roc_auc')), C))"
   ]
  },
  {
   "cell_type": "code",
   "execution_count": 166,
   "metadata": {},
   "outputs": [
    {
     "data": {
      "text/plain": [
       "[(0.7501136136609053, 0.01),\n",
       " (0.7501137531074945, 0.1),\n",
       " (0.7501122849571419, 1),\n",
       " (0.7501120074315646, 10),\n",
       " (0.7501118930316011, 100)]"
      ]
     },
     "execution_count": 166,
     "metadata": {},
     "output_type": "execute_result"
    }
   ],
   "source": [
    "results"
   ]
  },
  {
   "cell_type": "markdown",
   "metadata": {},
   "source": [
    "Результат стал еще лучше."
   ]
  },
  {
   "cell_type": "markdown",
   "metadata": {},
   "source": [
    "# Идеи для улучшения"
   ]
  },
  {
   "cell_type": "markdown",
   "metadata": {},
   "source": [
    "1) Можно рассматривать не только выбор героев командами по отдельности, но и связки героев. В Dota некоторые герои могут хорошо между собой сочетаться - например, их способности могут быть не такими сильными по отдельности, но вместео ни очень сильны.\n",
    "\n",
    "2) Можно использовать информацию о том, кто сделал first blood и на ком. Например, если убили более ценную позицию - это хуже, чем менее ценную. Так же, если убийство совершил герой, которому деньги и опыт за убийство тоже более важны - это тоже лучше. То есть, данная информация может быть полезной, есть смысл ее добавить, преобразовав перед этим признак из категориального.\n",
    "\n",
    "3) Можно так же некоторые признаки, которые мы воспринимаем как числовые, трансформировать. Взять, к примеру, количество сапогов. 2 сапога на пятой минуте - намного хуже, чем 4 сапога, а не в два раза. Имеет смысл заменить количества сапогов на винрейт с ними, как вариант. "
   ]
  },
  {
   "cell_type": "code",
   "execution_count": 169,
   "metadata": {},
   "outputs": [
    {
     "name": "stdout",
     "output_type": "stream",
     "text": [
      "[0.25088322122136075, 0.7491167787786392]\n"
     ]
    }
   ],
   "source": [
    "clf = LogisticRegression(C=1, random_state=random_state)\n",
    "clf.fit(X_train_2, y_train)\n",
    "result = clf.predict_proba(X_train_2)[1]\n",
    "print(sorted(result))"
   ]
  },
  {
   "cell_type": "code",
   "execution_count": null,
   "metadata": {},
   "outputs": [],
   "source": []
  }
 ],
 "metadata": {
  "kernelspec": {
   "display_name": "Python 3",
   "language": "python",
   "name": "python3"
  },
  "language_info": {
   "codemirror_mode": {
    "name": "ipython",
    "version": 3
   },
   "file_extension": ".py",
   "mimetype": "text/x-python",
   "name": "python",
   "nbconvert_exporter": "python",
   "pygments_lexer": "ipython3",
   "version": "3.8.5"
  }
 },
 "nbformat": 4,
 "nbformat_minor": 4
}
